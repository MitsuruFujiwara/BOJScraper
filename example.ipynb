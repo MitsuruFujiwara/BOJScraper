{
 "cells": [
  {
   "cell_type": "code",
   "execution_count": 1,
   "metadata": {
    "collapsed": true
   },
   "outputs": [],
   "source": [
    "from BOJScraper import BOJScraoer"
   ]
  },
  {
   "cell_type": "code",
   "execution_count": 2,
   "metadata": {
    "collapsed": true
   },
   "outputs": [],
   "source": [
    "bojs = BOJScraoer()"
   ]
  },
  {
   "cell_type": "code",
   "execution_count": 3,
   "metadata": {
    "collapsed": true
   },
   "outputs": [],
   "source": [
    "df = bojs.getData(2017, 2017)"
   ]
  },
  {
   "cell_type": "code",
   "execution_count": 4,
   "metadata": {
    "collapsed": false
   },
   "outputs": [
    {
     "data": {
      "text/html": [
       "<div>\n",
       "<table border=\"1\" class=\"dataframe\">\n",
       "  <thead>\n",
       "    <tr style=\"text-align: right;\">\n",
       "      <th></th>\n",
       "      <th>東京市場　ドル・円　スポット　9時時点</th>\n",
       "      <th>東京市場　ドル・円　スポット　最高値</th>\n",
       "      <th>東京市場　ドル・円　スポット　最安値</th>\n",
       "      <th>東京市場　ドル・円　スポット　17時時点</th>\n",
       "      <th>東京市場　ドル・円　スポット　中心相場</th>\n",
       "      <th>東京市場　ドル・円　スポット出来高</th>\n",
       "      <th>東京市場　ドル・円　スワップ出来高</th>\n",
       "      <th>東京市場　ユーロ・ドル　スポット　9時時点</th>\n",
       "      <th>東京市場　ユーロ・ドル　スポット　最高値</th>\n",
       "      <th>東京市場　ユーロ・ドル　スポット　最安値</th>\n",
       "      <th>東京市場　ユーロ・ドル　スポット　17時時点</th>\n",
       "      <th>東京市場　ユーロ・ドル　スポット出来高</th>\n",
       "      <th>東京市場　ユーロ・ドル　スワップ出来高</th>\n",
       "    </tr>\n",
       "    <tr>\n",
       "      <th>date</th>\n",
       "      <th></th>\n",
       "      <th></th>\n",
       "      <th></th>\n",
       "      <th></th>\n",
       "      <th></th>\n",
       "      <th></th>\n",
       "      <th></th>\n",
       "      <th></th>\n",
       "      <th></th>\n",
       "      <th></th>\n",
       "      <th></th>\n",
       "      <th></th>\n",
       "      <th></th>\n",
       "    </tr>\n",
       "  </thead>\n",
       "  <tbody>\n",
       "    <tr>\n",
       "      <th>2017-01-01</th>\n",
       "      <td>NaN</td>\n",
       "      <td>NaN</td>\n",
       "      <td>NaN</td>\n",
       "      <td>NaN</td>\n",
       "      <td>NaN</td>\n",
       "      <td>NaN</td>\n",
       "      <td>NaN</td>\n",
       "      <td>NaN</td>\n",
       "      <td>NaN</td>\n",
       "      <td>NaN</td>\n",
       "      <td>NaN</td>\n",
       "      <td>NA</td>\n",
       "      <td>NaN</td>\n",
       "    </tr>\n",
       "    <tr>\n",
       "      <th>2017-01-02</th>\n",
       "      <td>NaN</td>\n",
       "      <td>NaN</td>\n",
       "      <td>NaN</td>\n",
       "      <td>NaN</td>\n",
       "      <td>NaN</td>\n",
       "      <td>NaN</td>\n",
       "      <td>NaN</td>\n",
       "      <td>NaN</td>\n",
       "      <td>NaN</td>\n",
       "      <td>NaN</td>\n",
       "      <td>NaN</td>\n",
       "      <td>NA</td>\n",
       "      <td>NaN</td>\n",
       "    </tr>\n",
       "    <tr>\n",
       "      <th>2017-01-03</th>\n",
       "      <td>NaN</td>\n",
       "      <td>NaN</td>\n",
       "      <td>NaN</td>\n",
       "      <td>NaN</td>\n",
       "      <td>NaN</td>\n",
       "      <td>NaN</td>\n",
       "      <td>NaN</td>\n",
       "      <td>NaN</td>\n",
       "      <td>NaN</td>\n",
       "      <td>NaN</td>\n",
       "      <td>NaN</td>\n",
       "      <td>NA</td>\n",
       "      <td>NaN</td>\n",
       "    </tr>\n",
       "    <tr>\n",
       "      <th>2017-01-04</th>\n",
       "      <td>117.65</td>\n",
       "      <td>118.18</td>\n",
       "      <td>117.54</td>\n",
       "      <td>117.99</td>\n",
       "      <td>117.93</td>\n",
       "      <td>9304</td>\n",
       "      <td>61004</td>\n",
       "      <td>1.0418</td>\n",
       "      <td>1.0424</td>\n",
       "      <td>1.039</td>\n",
       "      <td>1.0417</td>\n",
       "      <td>1452</td>\n",
       "      <td>16836</td>\n",
       "    </tr>\n",
       "    <tr>\n",
       "      <th>2017-01-05</th>\n",
       "      <td>117.13</td>\n",
       "      <td>117.43</td>\n",
       "      <td>115.58</td>\n",
       "      <td>115.95</td>\n",
       "      <td>116.6</td>\n",
       "      <td>13369</td>\n",
       "      <td>52969</td>\n",
       "      <td>1.0497</td>\n",
       "      <td>1.0575</td>\n",
       "      <td>1.0482</td>\n",
       "      <td>1.0559</td>\n",
       "      <td>3316</td>\n",
       "      <td>6318</td>\n",
       "    </tr>\n",
       "  </tbody>\n",
       "</table>\n",
       "</div>"
      ],
      "text/plain": [
       "           東京市場　ドル・円　スポット　9時時点 東京市場　ドル・円　スポット　最高値 東京市場　ドル・円　スポット　最安値  \\\n",
       "date                                                                   \n",
       "2017-01-01                 NaN                NaN                NaN   \n",
       "2017-01-02                 NaN                NaN                NaN   \n",
       "2017-01-03                 NaN                NaN                NaN   \n",
       "2017-01-04              117.65             118.18             117.54   \n",
       "2017-01-05              117.13             117.43             115.58   \n",
       "\n",
       "           東京市場　ドル・円　スポット　17時時点 東京市場　ドル・円　スポット　中心相場 東京市場　ドル・円　スポット出来高  \\\n",
       "date                                                                    \n",
       "2017-01-01                  NaN                 NaN               NaN   \n",
       "2017-01-02                  NaN                 NaN               NaN   \n",
       "2017-01-03                  NaN                 NaN               NaN   \n",
       "2017-01-04               117.99              117.93             9304    \n",
       "2017-01-05               115.95              116.6              13369   \n",
       "\n",
       "           東京市場　ドル・円　スワップ出来高 東京市場　ユーロ・ドル　スポット　9時時点 東京市場　ユーロ・ドル　スポット　最高値  \\\n",
       "date                                                                      \n",
       "2017-01-01               NaN                   NaN                  NaN   \n",
       "2017-01-02               NaN                   NaN                  NaN   \n",
       "2017-01-03               NaN                   NaN                  NaN   \n",
       "2017-01-04             61004                1.0418               1.0424   \n",
       "2017-01-05             52969                1.0497               1.0575   \n",
       "\n",
       "           東京市場　ユーロ・ドル　スポット　最安値 東京市場　ユーロ・ドル　スポット　17時時点 東京市場　ユーロ・ドル　スポット出来高  \\\n",
       "date                                                                         \n",
       "2017-01-01                  NaN                    NaN                NA     \n",
       "2017-01-02                  NaN                    NaN                NA     \n",
       "2017-01-03                  NaN                    NaN                NA     \n",
       "2017-01-04               1.039                  1.0417                1452   \n",
       "2017-01-05               1.0482                 1.0559                3316   \n",
       "\n",
       "           東京市場　ユーロ・ドル　スワップ出来高  \n",
       "date                            \n",
       "2017-01-01                 NaN  \n",
       "2017-01-02                 NaN  \n",
       "2017-01-03                 NaN  \n",
       "2017-01-04               16836  \n",
       "2017-01-05                6318  "
      ]
     },
     "execution_count": 4,
     "metadata": {},
     "output_type": "execute_result"
    }
   ],
   "source": [
    "df.head()"
   ]
  },
  {
   "cell_type": "code",
   "execution_count": null,
   "metadata": {
    "collapsed": true
   },
   "outputs": [],
   "source": []
  }
 ],
 "metadata": {
  "kernelspec": {
   "display_name": "Python [conda root]",
   "language": "python",
   "name": "conda-root-py"
  },
  "language_info": {
   "codemirror_mode": {
    "name": "ipython",
    "version": 3
   },
   "file_extension": ".py",
   "mimetype": "text/x-python",
   "name": "python",
   "nbconvert_exporter": "python",
   "pygments_lexer": "ipython3",
   "version": "3.5.2"
  }
 },
 "nbformat": 4,
 "nbformat_minor": 1
}
